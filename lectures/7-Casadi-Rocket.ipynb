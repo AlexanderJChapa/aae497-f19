{
 "cells": [
  {
   "cell_type": "code",
   "execution_count": 10,
   "metadata": {},
   "outputs": [],
   "source": [
    "import casadi as ca\n",
    "import numpy as np\n",
    "import sys\n",
    "\n",
    "sys.path.insert(0, '../python/pyecca')\n",
    "\n",
    "import pyecca.lie.so3 as so3\n",
    "\n",
    "def aero_prop():\n",
    "    pos_ENU = ca.SX.sym('pos_ENU', 3)\n",
    "    vel_ENU = ca.SX.sym('vel_ENU', 3)\n",
    "    q_ENU_TRF = ca.SX.sym('q_ENU_TRF', 4)\n",
    "    p = ca.SX.sym('p', 15)\n",
    "    u = ca.SX.sym('u', 4)\n",
    "\n",
    "    C_NED_ENU = np.array([\n",
    "        [0, 1, 0],\n",
    "        [1, 0, 0],\n",
    "        [0, 0, -1]\n",
    "    ])\n",
    "\n",
    "    C_TRF_FRD = np.array([\n",
    "        [0, 0, -1],\n",
    "        [0, 1, 0],\n",
    "        [1, 0, 0]\n",
    "    ])\n",
    "    \n",
    "    r_NED_FRD = so3.Mrp.from_dcm(\n",
    "        ca.mtimes([C_NED_ENU, so3.Dcm.from_quat(q_ENU_TRF), C_TRF_FRD]))\n",
    "    \n",
    "    F_aero = ca.vertcat(0, 0, 0)\n",
    "    F_prop = ca.vertcat(0, 0, 0)\n",
    "\n",
    "    f = ca.Function('aero_prop', [pos_ENU, vel_ENU, q_ENU_TRF], [F_aero, F_prop],\n",
    "        ['pos_ENU', 'vel_ENU', 'q_ENU_TRF'], ['F_aero', 'F_prop'])\n",
    "\n",
    "    gen = ca.CodeGenerator('casadi_gen.c', {'main': False, 'mex': False, 'with_header': True, 'with_mem': True})\n",
    "    gen.add(f)\n",
    "    gen.generate()\n",
    "\n",
    "aero_prop()"
   ]
  },
  {
   "cell_type": "code",
   "execution_count": 11,
   "metadata": {},
   "outputs": [
    {
     "data": {
      "text/plain": [
       "['__builtins__',\n",
       " '__cached__',\n",
       " '__doc__',\n",
       " '__file__',\n",
       " '__loader__',\n",
       " '__name__',\n",
       " '__package__',\n",
       " '__path__',\n",
       " '__spec__',\n",
       " '__version__',\n",
       " '_version',\n",
       " 'lie']"
      ]
     },
     "execution_count": 11,
     "metadata": {},
     "output_type": "execute_result"
    }
   ],
   "source": [
    "dir(pyecca)"
   ]
  },
  {
   "cell_type": "code",
   "execution_count": null,
   "metadata": {},
   "outputs": [],
   "source": []
  }
 ],
 "metadata": {
  "kernelspec": {
   "display_name": "Python 3",
   "language": "python",
   "name": "python3"
  },
  "language_info": {
   "codemirror_mode": {
    "name": "ipython",
    "version": 3
   },
   "file_extension": ".py",
   "mimetype": "text/x-python",
   "name": "python",
   "nbconvert_exporter": "python",
   "pygments_lexer": "ipython3",
   "version": "3.7.3"
  }
 },
 "nbformat": 4,
 "nbformat_minor": 4
}
